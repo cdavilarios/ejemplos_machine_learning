{
 "cells": [
  {
   "cell_type": "markdown",
   "metadata": {},
   "source": [
    "## SequenceMatcher"
   ]
  },
  {
   "cell_type": "code",
   "execution_count": 2,
   "metadata": {
    "collapsed": false
   },
   "outputs": [
    {
     "data": {
      "text/plain": [
       "0.4883720930232558"
      ]
     },
     "execution_count": 2,
     "metadata": {},
     "output_type": "execute_result"
    }
   ],
   "source": [
    "from difflib import SequenceMatcher as SM\n",
    "s1 = 'Detergente En Polvo Bolivar Evolution Bolsa 4.5 Kg'\n",
    "s2 = 'Bolivar Evolution Detergente X 520 G' \n",
    "SM(None, s1, s2).ratio()"
   ]
  },
  {
   "cell_type": "markdown",
   "metadata": {},
   "source": [
    "## Fuzzyset"
   ]
  },
  {
   "cell_type": "code",
   "execution_count": 3,
   "metadata": {
    "collapsed": false
   },
   "outputs": [
    {
     "data": {
      "text/plain": [
       "[(0.2941176470588235, 'Bolivar Evolution Detergente X 520 G')]"
      ]
     },
     "execution_count": 3,
     "metadata": {},
     "output_type": "execute_result"
    }
   ],
   "source": [
    "from fuzzyset import FuzzySet\n",
    "text = \"\"\"Detergente En Polvo Bolivar Evolution Bolsa 4.5 Kg.\n",
    "          Bolivar Evolution Detergente X 520 G\"\"\" \n",
    "\n",
    "lines = [line.lstrip() for line in text.split(\"\\n\")]\n",
    "fs = FuzzySet(lines[1:])\n",
    "fs.get(lines[0])"
   ]
  },
  {
   "cell_type": "markdown",
   "metadata": {},
   "source": [
    "## Sklern tdidfvectorizer"
   ]
  },
  {
   "cell_type": "code",
   "execution_count": 4,
   "metadata": {
    "collapsed": false
   },
   "outputs": [
    {
     "name": "stdout",
     "output_type": "stream",
     "text": [
      "{u'evolution': 5, u'en': 4, u'kg': 6, u'polvo': 7, u'bolsa': 2, u'detergente': 3, u'bolivar': 1, u'520': 0}\n"
     ]
    },
    {
     "data": {
      "text/plain": [
       "array([[ 1.       ,  0.4073526],\n",
       "       [ 0.4073526,  1.       ]])"
      ]
     },
     "execution_count": 4,
     "metadata": {},
     "output_type": "execute_result"
    }
   ],
   "source": [
    "############################################################################################\n",
    "# otro ejemplo de similaridad\n",
    "############################################################################################\n",
    "from sklearn.feature_extraction.text import TfidfVectorizer\n",
    "\n",
    "vect = TfidfVectorizer(min_df=1) \n",
    "tfidf = vect.fit_transform(\n",
    "    [\"Detergente En Polvo Bolivar Evolution Bolsa 4.5 Kg\", \n",
    "    \"Bolivar Evolution Detergente X 520 G\"]) #each sentence can be replaced by a whole document\n",
    "print(vect.vocabulary_)\n",
    "(tfidf * tfidf.T).A #similarities matrix of sentences"
   ]
  },
  {
   "cell_type": "markdown",
   "metadata": {},
   "source": [
    "## jaccard_similarity_score"
   ]
  },
  {
   "cell_type": "code",
   "execution_count": 6,
   "metadata": {
    "collapsed": true
   },
   "outputs": [],
   "source": [
    "from sklearn.metrics import jaccard_similarity_score"
   ]
  },
  {
   "cell_type": "code",
   "execution_count": null,
   "metadata": {
    "collapsed": true
   },
   "outputs": [],
   "source": [
    "# 1.Initialize two sentences.\n",
    "st_1 = \"Detergente En Polvo Bolivar Evolution Bolsa 4.5 Kg\"\n",
    "st_2 = \"Bolivar Evolution Detergente X 520 G\"\n",
    "\n",
    "# 2.Create set of words from strings\n",
    "st_1_wrds = set(st_1.split())\n",
    "st_2_wrds = set(st_2.split())\n",
    "\n",
    "unq_wrds = st_1_wrds.union(st_2_wrds)\n",
    "\n",
    "a =[ 1 if w in st_1_wrds else 0 for w in unq_wrds ]\n",
    "b =[ 1 if w in st_2_wrds else 0 for w in unq_wrds]\n",
    "\n",
    "print a\n",
    "print b\n",
    "print jaccard_similarity_score(a,b)"
   ]
  }
 ],
 "metadata": {
  "kernelspec": {
   "display_name": "Python 2",
   "language": "python",
   "name": "python2"
  },
  "language_info": {
   "codemirror_mode": {
    "name": "ipython",
    "version": 2
   },
   "file_extension": ".py",
   "mimetype": "text/x-python",
   "name": "python",
   "nbconvert_exporter": "python",
   "pygments_lexer": "ipython2",
   "version": "2.7.12"
  }
 },
 "nbformat": 4,
 "nbformat_minor": 1
}
