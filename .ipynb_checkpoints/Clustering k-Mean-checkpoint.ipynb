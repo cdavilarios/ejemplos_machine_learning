{
 "cells": [
  {
   "cell_type": "code",
   "execution_count": 1,
   "metadata": {
    "collapsed": true
   },
   "outputs": [],
   "source": [
    "############################################################################################\n",
    "# otro ejemplo k-mean\n",
    "############################################################################################\n",
    "import collections\n",
    "from nltk import word_tokenize\n",
    "from nltk.corpus import stopwords\n",
    "from nltk.stem import PorterStemmer\n",
    "from sklearn.cluster import KMeans\n",
    "from sklearn.feature_extraction.text import TfidfVectorizer\n",
    "from pprint import pprint"
   ]
  },
  {
   "cell_type": "code",
   "execution_count": 2,
   "metadata": {
    "collapsed": false
   },
   "outputs": [
    {
     "name": "stdout",
     "output_type": "stream",
     "text": [
      "<type 'list'>\n",
      "cluster  0 :\n",
      "     college cuaderno deluxe bakan triple reglón hojas 80 empaque\n",
      "     college cuaderno deluxe chikitines doble raya hojas 80 empaque\n",
      "     loro cuaderno deluxe sólido triple raya hojas 92 empaque\n",
      "     loro cuaderno deluxe sólido triple reglón hojas 92 empaque\n",
      "     loro cuaderno deluxe sólido con sticker rayado hojas 92 empaque\n",
      "     my little pony deluxe fashion pony (rarity) un 1 unidad\n",
      "     premium triple hoja sensación deluxe extracto de seda. paquete 16 rollos.\n",
      "cluster  1 :\n",
      "     buchanans whisky deluxe 12 añosml 750 botella\n"
     ]
    }
   ],
   "source": [
    "def word_tokenizer(text):\n",
    "    #tokenizes and stems the text\n",
    "    tokens = word_tokenize(text)\n",
    "    stemmer = PorterStemmer()\n",
    "    tokens = [stemmer.stem(t) for t in tokens if t not in stopwords.words('spanish')]\n",
    "    return tokens\n",
    "\n",
    "\n",
    "def cluster_sentences(sentences, nb_of_clusters=5):\n",
    "    tfidf_vectorizer = TfidfVectorizer(tokenizer=word_tokenizer,\n",
    "                                    stop_words=stopwords.words('spanish'),\n",
    "                                       encoding=u'utf-8',\n",
    "                                       ngram_range=(0, 2),\n",
    "                                       strip_accents='unicode',\n",
    "                                    #max_df=0.95,\n",
    "                                    #min_df=0.05,\n",
    "                                    lowercase=True)\n",
    "    #builds a tf-idf matrix for the sentences\n",
    "    tfidf_matrix = tfidf_vectorizer.fit_transform(sentences)\n",
    "    kmeans = KMeans(n_clusters=nb_of_clusters)\n",
    "    kmeans.fit(tfidf_matrix)\n",
    "    clusters = collections.defaultdict(list)\n",
    "    for i, label in enumerate(kmeans.labels_):\n",
    "            clusters[label].append(i)\n",
    "    return dict(clusters)\n",
    " \n",
    "sentences = [    'college cuaderno deluxe bakan triple reglón hojas 80 empaque', # 0\n",
    "'college cuaderno deluxe chikitines doble raya hojas 80 empaque', # 1\n",
    "'loro cuaderno deluxe sólido triple raya hojas 92 empaque',# 2\n",
    "'loro cuaderno deluxe sólido triple reglón hojas 92 empaque', # 3\n",
    "'loro cuaderno deluxe sólido con sticker rayado hojas 92 empaque', # 4\n",
    "'my little pony deluxe fashion pony (rarity) un 1 unidad',# 5\n",
    "'buchanan''s whisky deluxe 12 añosml 750 botella',\n",
    "            'premium triple hoja sensación deluxe extracto de seda. paquete 16 rollos.']\n",
    "print type(sentences)\n",
    "nclusters= 2\n",
    "clusters = cluster_sentences(sentences, nclusters)\n",
    "for cluster in range(nclusters):\n",
    "    print \"cluster \",cluster,\":\"\n",
    "    for i,sentence in enumerate(clusters[cluster]):\n",
    "        #print \"\\tsentence \",i,\": \",sentences[sentence]\n",
    "        print \"    \",sentences[sentence]"
   ]
  },
  {
   "cell_type": "code",
   "execution_count": null,
   "metadata": {
    "collapsed": true
   },
   "outputs": [],
   "source": []
  }
 ],
 "metadata": {
  "kernelspec": {
   "display_name": "Python 2",
   "language": "python",
   "name": "python2"
  },
  "language_info": {
   "codemirror_mode": {
    "name": "ipython",
    "version": 2
   },
   "file_extension": ".py",
   "mimetype": "text/x-python",
   "name": "python",
   "nbconvert_exporter": "python",
   "pygments_lexer": "ipython2",
   "version": "2.7.12"
  }
 },
 "nbformat": 4,
 "nbformat_minor": 1
}
